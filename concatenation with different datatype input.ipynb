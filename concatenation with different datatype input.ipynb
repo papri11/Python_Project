{
 "cells": [
  {
   "cell_type": "markdown",
   "metadata": {},
   "source": [
    "The variables i , d , and s are already declared and initialized for you. You must:\n",
    "\n",
    "Declare  variables: one of type int, one of type double, and one of type String.\n",
    "Read  lines of input from stdin (according to the sequence given in the Input Format section below) and initialize your  variables.\n",
    "Use the + operator to perform the following operations:\n",
    "Print the sum of i plus your int variable on a new line.\n",
    "Print the sum of d plus your double variable to a scale of one decimal place on a new line.\n",
    "Concatenate s with the string you read as input and print the result on a new line."
   ]
  },
  {
   "cell_type": "code",
   "execution_count": null,
   "metadata": {},
   "outputs": [],
   "source": [
    "i = 4\n",
    "d = 4.0\n",
    "s = 'HackerRank '\n",
    "if __name__=='__main__':\n",
    "\n",
    "    s1,s2,s3=input().split(',')\n",
    "    list1=[s1,s2,s3]\n",
    "    for k in list1:\n",
    "        if k.isdigit()==False:\n",
    "            a1=k.replace('.','',1)\n",
    "            if a1.isdigit()==False:\n",
    "                print(s+k)\n",
    "            else:\n",
    "                k=float(k)\n",
    "                print(d+k)\n",
    "        else:\n",
    "            k=int(k)\n",
    "            print(i+k)"
   ]
  }
 ],
 "metadata": {
  "kernelspec": {
   "display_name": "Python 3",
   "language": "python",
   "name": "python3"
  },
  "language_info": {
   "codemirror_mode": {
    "name": "ipython",
    "version": 3
   },
   "file_extension": ".py",
   "mimetype": "text/x-python",
   "name": "python",
   "nbconvert_exporter": "python",
   "pygments_lexer": "ipython3",
   "version": "3.8.3"
  }
 },
 "nbformat": 4,
 "nbformat_minor": 4
}
