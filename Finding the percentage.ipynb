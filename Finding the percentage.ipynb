{
 "cells": [
  {
   "cell_type": "markdown",
   "metadata": {},
   "source": [
    "# The provided code stub will read in a dictionary containing key/value pairs of name:[marks] for a list of students. Print the average of the marks array for the student name provided, showing 2 places after the decimal."
   ]
  },
  {
   "cell_type": "code",
   "execution_count": null,
   "metadata": {},
   "outputs": [],
   "source": [
    "if __name__ == '__main__':\n",
    "    a=0 #initialize variable 'a'\n",
    "    n = int(input('enter student number'))\n",
    "    student_marks = {}\n",
    "    for _ in range(n):\n",
    "        name, *line = input('enter student name and scores: ').split() #split the name and line\n",
    "        scores = list(map(float, line)) #convert the line into list form\n",
    "        student_marks[name] = scores #assign the key and value\n",
    "    query_name = input('enter the student name to find the avarage score:')\n",
    "    # calculation of avrage score \n",
    "    for i in student_marks[query_name]:\n",
    "         a=a+i\n",
    "    avg=a/len(line)\n",
    "    #showing 2 places after the decimal\n",
    "    formatted_avg=\"{:.2f}\".format(avg)\n",
    "    print(formatted_avg)"
   ]
  }
 ],
 "metadata": {
  "kernelspec": {
   "display_name": "Python 3",
   "language": "python",
   "name": "python3"
  },
  "language_info": {
   "codemirror_mode": {
    "name": "ipython",
    "version": 3
   },
   "file_extension": ".py",
   "mimetype": "text/x-python",
   "name": "python",
   "nbconvert_exporter": "python",
   "pygments_lexer": "ipython3",
   "version": "3.8.3"
  }
 },
 "nbformat": 4,
 "nbformat_minor": 4
}
