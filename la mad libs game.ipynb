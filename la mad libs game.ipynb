{
 "cells": [
  {
   "cell_type": "code",
   "execution_count": 1,
   "metadata": {},
   "outputs": [
    {
     "name": "stdout",
     "output_type": "stream",
     "text": [
      "enter a exclamation: wow\n",
      "enter an adverb: beautifully\n",
      "enter a noun: sofa\n",
      "enter an adjective: sweet\n",
      " wow! he said beautifully as he jumped into his convertible sofa and drove of his sweet wife\n"
     ]
    }
   ],
   "source": [
    "Exclamation= input('enter a exclamation: ')\n",
    "adverb= input('enter an adverb: ')\n",
    "noun= input('enter a noun: ')\n",
    "adjective= input('enter an adjective: ')\n",
    "print(f' {Exclamation}! he said {adverb} as he jumped into his convertible {noun} and drove of his {adjective} wife' )"
   ]
  },
  {
   "cell_type": "code",
   "execution_count": null,
   "metadata": {},
   "outputs": [],
   "source": []
  }
 ],
 "metadata": {
  "kernelspec": {
   "display_name": "Python 3",
   "language": "python",
   "name": "python3"
  },
  "language_info": {
   "codemirror_mode": {
    "name": "ipython",
    "version": 3
   },
   "file_extension": ".py",
   "mimetype": "text/x-python",
   "name": "python",
   "nbconvert_exporter": "python",
   "pygments_lexer": "ipython3",
   "version": "3.8.3"
  }
 },
 "nbformat": 4,
 "nbformat_minor": 4
}
