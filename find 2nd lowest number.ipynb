{
 "cells": [
  {
   "cell_type": "markdown",
   "metadata": {},
   "source": [
    "##  The names and grades for each student in a class of  students, store them in a nested list and print the name(s) of any student(s) having the second lowest grade.\n",
    "\n",
    "### Note: If there are multiple students with the second lowest grade, order their names alphabetically and print each name on a new line"
   ]
  },
  {
   "cell_type": "code",
   "execution_count": null,
   "metadata": {},
   "outputs": [],
   "source": [
    "if __name__ == '__main__': # the module is being run standalone by the user \n",
    "#assigning a variable  \n",
    "    a1=[] \n",
    "    b1=[] \n",
    "# user input\n",
    "    for _ in range(int(input())):\n",
    "        name = input()\n",
    "        score = float(input())\n",
    "# store name and score in 'a1' variable\n",
    "        a=(f'{name}', f'{score}')\n",
    "        a1.append(a)\n",
    "# converting to dictionay\n",
    "    dic_1=dict(a1)\n",
    "    val=dic_1.values()\n",
    "    key=dic_1.keys()\n",
    "# sort the value of dic_1\n",
    "    sort_val=sorted(list(set(val)), key= float)\n",
    "# check how many 2nd lowest value are there and store it in variable 'b1'\n",
    "    for i in range(len(dic_1)):\n",
    "        if sort_val[1]==list(val)[i]:\n",
    "            key1=list(key)[i]\n",
    "            b1.append(key1)\n",
    "# sort the keys which have same 2nd lowest value\n",
    "    sort_key=sorted(b1)\n",
    "# print the keys one by one\n",
    "    for i in sort_key:\n",
    "        print(i)"
   ]
  }
 ],
 "metadata": {
  "kernelspec": {
   "display_name": "Python 3",
   "language": "python",
   "name": "python3"
  },
  "language_info": {
   "codemirror_mode": {
    "name": "ipython",
    "version": 3
   },
   "file_extension": ".py",
   "mimetype": "text/x-python",
   "name": "python",
   "nbconvert_exporter": "python",
   "pygments_lexer": "ipython3",
   "version": "3.8.3"
  }
 },
 "nbformat": 4,
 "nbformat_minor": 4
}
